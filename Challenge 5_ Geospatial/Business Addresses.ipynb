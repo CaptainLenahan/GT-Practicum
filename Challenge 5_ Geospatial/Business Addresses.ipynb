{
 "cells": [
  {
   "cell_type": "code",
   "execution_count": 7,
   "id": "46fc9766",
   "metadata": {},
   "outputs": [],
   "source": [
    "import csv\n",
    "import requests\n",
    "import pandas as pd\n",
    "import numpy as np\n",
    "from bs4 import BeautifulSoup\n",
    "import re"
   ]
  },
  {
   "cell_type": "markdown",
   "id": "83b7b9fa",
   "metadata": {},
   "source": [
    "# Summary\n",
    "\n",
    "This script will gather addresses for businesses, using either a \"light-weight\" script, or one that is more comprehensive.\n",
    "\n",
    "The lightweight script will pull all businesses in the S&P 500 (from Wikipedia), and then get headquarters address from the SEC website. Each SEC filing contains the address for the company.\n",
    "\n",
    "In the more comprehensive version, addresses are provided for every business which has made a filing with the SEC, totaling over 12,000 businesses."
   ]
  },
  {
   "cell_type": "markdown",
   "id": "c8adc2c8",
   "metadata": {},
   "source": [
    "## Part 1: Light-Weight Version"
   ]
  },
  {
   "cell_type": "code",
   "execution_count": 9,
   "id": "c0d941a8",
   "metadata": {},
   "outputs": [],
   "source": [
    "table=pd.read_html('https://en.wikipedia.org/wiki/List_of_S%26P_500_companies')\n",
    "df = table[0]"
   ]
  },
  {
   "cell_type": "code",
   "execution_count": 18,
   "id": "363d9ab6",
   "metadata": {},
   "outputs": [
    {
     "data": {
      "text/plain": [
       "'Viatris'"
      ]
     },
     "execution_count": 18,
     "metadata": {},
     "output_type": "execute_result"
    }
   ],
   "source": [
    "df.iloc[474]\n",
    "\n",
    "df.iloc[474]['Security']"
   ]
  },
  {
   "cell_type": "code",
   "execution_count": 21,
   "id": "2a9ee162",
   "metadata": {},
   "outputs": [
    {
     "name": "stdout",
     "output_type": "stream",
     "text": [
      "Processing Business Number:  1\n",
      "Processing Business Number:  51\n",
      "Processing Business Number:  101\n",
      "Processing Business Number:  151\n",
      "Processing Business Number:  201\n",
      "Processing Business Number:  251\n",
      "Processing Business Number:  301\n",
      "Processing Business Number:  351\n",
      "Processing Business Number:  401\n",
      "Processing Business Number:  451\n",
      "Processing Business Number:  501\n"
     ]
    }
   ],
   "source": [
    "# Loop through the CIKs and pull information from the SEC website\n",
    "\n",
    "comp_dict = {}\n",
    "count = 0\n",
    "\n",
    "for i in df['CIK']:\n",
    "    if count % 50 == 0:\n",
    "        print('Processing Business Number: ',count+1)\n",
    "        \n",
    "    sec = df.iloc[count]['Security']\n",
    "    \n",
    "    # CIKs are 10 numbers with leading 0s\n",
    "    padded_num = str(i).rjust(10, '0')\n",
    "\n",
    "    try:\n",
    "        new_str = 'https://www.edgarcompany.sec.gov/servlet/CompanyDBSearch?page=detailed&cik='+padded_num+'&main_back=2'\n",
    "    except:\n",
    "        print(sec, i)\n",
    "        count+=1\n",
    "        continue\n",
    "    new_req = requests.get(new_str)\n",
    "    new_req_txt = new_req.text.replace('<BR>',' ')\n",
    "\n",
    "    soup = BeautifulSoup(new_req_txt, 'html.parser')\n",
    "    soup_text = soup.get_text().replace('\\n','')\n",
    "\n",
    "    add_search = re.search('Address:(.*)Phone', soup_text)\n",
    "    if add_search == None:\n",
    "        count+=1\n",
    "        continue\n",
    "    address = add_search.group(1).strip()\n",
    "    comp_dict[sec] = address\n",
    "    count += 1\n"
   ]
  },
  {
   "cell_type": "code",
   "execution_count": 24,
   "id": "158db944",
   "metadata": {},
   "outputs": [
    {
     "data": {
      "text/html": [
       "<div>\n",
       "<style scoped>\n",
       "    .dataframe tbody tr th:only-of-type {\n",
       "        vertical-align: middle;\n",
       "    }\n",
       "\n",
       "    .dataframe tbody tr th {\n",
       "        vertical-align: top;\n",
       "    }\n",
       "\n",
       "    .dataframe thead th {\n",
       "        text-align: right;\n",
       "    }\n",
       "</style>\n",
       "<table border=\"1\" class=\"dataframe\">\n",
       "  <thead>\n",
       "    <tr style=\"text-align: right;\">\n",
       "      <th></th>\n",
       "      <th>Company Name</th>\n",
       "      <th>Address</th>\n",
       "    </tr>\n",
       "  </thead>\n",
       "  <tbody>\n",
       "    <tr>\n",
       "      <th>0</th>\n",
       "      <td>3M</td>\n",
       "      <td>3M CENTER BLDG. 220-13E-26A ST PAUL, MINNESOTA...</td>\n",
       "    </tr>\n",
       "    <tr>\n",
       "      <th>1</th>\n",
       "      <td>A. O. Smith</td>\n",
       "      <td>11270 WEST PARK PLACE MILWAUKEE, WISCONSIN 53224</td>\n",
       "    </tr>\n",
       "    <tr>\n",
       "      <th>2</th>\n",
       "      <td>Abbott</td>\n",
       "      <td>100 ABBOTT PARK ROAD ABBOTT PARK, ILLINOIS 600...</td>\n",
       "    </tr>\n",
       "    <tr>\n",
       "      <th>3</th>\n",
       "      <td>AbbVie</td>\n",
       "      <td>1 NORTH WAUKEGAN ROAD NORTH CHICAGO, ILLINOIS ...</td>\n",
       "    </tr>\n",
       "    <tr>\n",
       "      <th>4</th>\n",
       "      <td>Accenture</td>\n",
       "      <td>1 GRAND CANAL SQUARE GRAND CANAL HARBOUR DUBLI...</td>\n",
       "    </tr>\n",
       "    <tr>\n",
       "      <th>...</th>\n",
       "      <td>...</td>\n",
       "      <td>...</td>\n",
       "    </tr>\n",
       "    <tr>\n",
       "      <th>497</th>\n",
       "      <td>Yum! Brands</td>\n",
       "      <td>1441 GARDINER LANE LOUISVILLE, KENTUCKY 40213</td>\n",
       "    </tr>\n",
       "    <tr>\n",
       "      <th>498</th>\n",
       "      <td>Zebra Technologies</td>\n",
       "      <td>3 OVERLOOK POINT LINCOLNSHIRE, ILLINOIS 60069</td>\n",
       "    </tr>\n",
       "    <tr>\n",
       "      <th>499</th>\n",
       "      <td>Zimmer Biomet</td>\n",
       "      <td>345 EAST MAIN STREET WARSAW, INDIANA 46580</td>\n",
       "    </tr>\n",
       "    <tr>\n",
       "      <th>500</th>\n",
       "      <td>Zions Bancorporation</td>\n",
       "      <td>ONE SOUTH MAIN STREET 11TH FLOOR SALT LAKE CIT...</td>\n",
       "    </tr>\n",
       "    <tr>\n",
       "      <th>501</th>\n",
       "      <td>Zoetis</td>\n",
       "      <td>10 SYLVAN WAY PARSIPPANY, NEW JERSEY 07054</td>\n",
       "    </tr>\n",
       "  </tbody>\n",
       "</table>\n",
       "<p>502 rows × 2 columns</p>\n",
       "</div>"
      ],
      "text/plain": [
       "             Company Name                                            Address\n",
       "0                      3M  3M CENTER BLDG. 220-13E-26A ST PAUL, MINNESOTA...\n",
       "1             A. O. Smith   11270 WEST PARK PLACE MILWAUKEE, WISCONSIN 53224\n",
       "2                  Abbott  100 ABBOTT PARK ROAD ABBOTT PARK, ILLINOIS 600...\n",
       "3                  AbbVie  1 NORTH WAUKEGAN ROAD NORTH CHICAGO, ILLINOIS ...\n",
       "4               Accenture  1 GRAND CANAL SQUARE GRAND CANAL HARBOUR DUBLI...\n",
       "..                    ...                                                ...\n",
       "497           Yum! Brands      1441 GARDINER LANE LOUISVILLE, KENTUCKY 40213\n",
       "498    Zebra Technologies      3 OVERLOOK POINT LINCOLNSHIRE, ILLINOIS 60069\n",
       "499         Zimmer Biomet         345 EAST MAIN STREET WARSAW, INDIANA 46580\n",
       "500  Zions Bancorporation  ONE SOUTH MAIN STREET 11TH FLOOR SALT LAKE CIT...\n",
       "501                Zoetis         10 SYLVAN WAY PARSIPPANY, NEW JERSEY 07054\n",
       "\n",
       "[502 rows x 2 columns]"
      ]
     },
     "execution_count": 24,
     "metadata": {},
     "output_type": "execute_result"
    }
   ],
   "source": [
    "address_df = pd.DataFrame.from_dict(comp_dict, orient='index', columns=['Address']).reset_index()\n",
    "address_df.rename(columns={'index':'Company Name'})"
   ]
  },
  {
   "cell_type": "code",
   "execution_count": 25,
   "id": "62298c19",
   "metadata": {},
   "outputs": [],
   "source": [
    "address_df.to_csv('Company_Addresses_Lite.csv')"
   ]
  },
  {
   "cell_type": "markdown",
   "id": "897bcf1d",
   "metadata": {},
   "source": [
    "## Part 2: Comprehensive Version\n",
    "\n",
    "Run this to pull addresses for any company which has filed with the SEC. At last run it was over 12,000 businesses. \n",
    "It takes 1-2 hours to run due to this, but may be faster on a more powerful machine."
   ]
  },
  {
   "cell_type": "code",
   "execution_count": null,
   "id": "e4de8501",
   "metadata": {},
   "outputs": [],
   "source": [
    "import urllib.request \n",
    "\n",
    "c = 0\n",
    "comp_dict = {}\n",
    "\n",
    "# Contains data for every company which has filed with the SEC\n",
    "# Format is ticker (e.g. MSFT), CIK\n",
    "data = urllib.request.urlopen('https://www.sec.gov/include/ticker.txt') "
   ]
  },
  {
   "cell_type": "code",
   "execution_count": null,
   "id": "9339a67c",
   "metadata": {},
   "outputs": [],
   "source": [
    "# Pull address information, similiarly to the other method.\n",
    "# I did attempt to pull phone number, but it is all set to 000-000-0000 on this website\n",
    "\n",
    "for line in data:\n",
    "    if c % 50 == 0:\n",
    "        print('Processing line: ',c)\n",
    "\n",
    "    new_line = line.decode('ASCII').replace('\\n','').split('\\t')\n",
    "    ticker = new_line[0]\n",
    "    cik = new_line[1]\n",
    "\n",
    "    padded_num = str(cik).rjust(10, '0')\n",
    "\n",
    "    new_str = 'https://www.edgarcompany.sec.gov/servlet/CompanyDBSearch?page=detailed&cik='+padded_num+'&main_back=2'\n",
    "\n",
    "    new_req = requests.get(new_str)\n",
    "    new_req_txt = new_req.text.replace('<BR>',' ')\n",
    "    soup = BeautifulSoup(new_req_txt, 'html.parser')\n",
    "    soup_text = soup.get_text().replace('\\n','')\n",
    "\n",
    "    name_search = re.search('Company Name:(.*)CIK', soup_text)\n",
    "    if name_search == None:\n",
    "        print(\"No Company Name: \",cik)\n",
    "        name = ''\n",
    "    else:\n",
    "        name = name_search.group(1).strip()\n",
    "\n",
    "    add_search = re.search('Address:(.*)Phone', soup_text)\n",
    "    if add_search == None:\n",
    "        print(\"No Address: \", cik)\n",
    "        address = ''\n",
    "    else:\n",
    "        address = add_search.group(1).strip()\n",
    "\n",
    "    phone_search = re.search('Phone Number:(.*)State', soup_text)\n",
    "    if phone_search == None:\n",
    "        print(\"No Phone #: \", )\n",
    "        phone = ''\n",
    "    else:\n",
    "        phone = phone_search.group(1).strip()\n",
    "    comp_dict[c] = {'Name':name,'Address':address,'Phone':phone}\n",
    "\n",
    "    c+=1"
   ]
  },
  {
   "cell_type": "code",
   "execution_count": null,
   "id": "dd5debab",
   "metadata": {},
   "outputs": [],
   "source": [
    "with open('company_addresses_sec.csv','w',newline='') as outputFile:\n",
    "    writer = csv.writer(outputFile)\n",
    "    writer.writerow(['Company_Name', 'Address','Phone'])\n",
    "    for row in comp_dict:\n",
    "        values = comp_dict[row]\n",
    "        writer.writerow([values['Name'],values['Address'],values['Phone']])"
   ]
  }
 ],
 "metadata": {
  "kernelspec": {
   "display_name": "Python 3 (ipykernel)",
   "language": "python",
   "name": "python3"
  },
  "language_info": {
   "codemirror_mode": {
    "name": "ipython",
    "version": 3
   },
   "file_extension": ".py",
   "mimetype": "text/x-python",
   "name": "python",
   "nbconvert_exporter": "python",
   "pygments_lexer": "ipython3",
   "version": "3.9.7"
  }
 },
 "nbformat": 4,
 "nbformat_minor": 5
}
